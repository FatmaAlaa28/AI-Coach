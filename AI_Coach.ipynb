{
  "cells": [
    {
      "cell_type": "code",
      "execution_count": null,
      "metadata": {
        "colab": {
          "base_uri": "https://localhost:8080/"
        },
        "id": "dQt4mr2N-asV",
        "outputId": "c99bdfdf-01bf-4538-f72c-eab60d752189"
      },
      "outputs": [],
      "source": [
        "!pip install opencv-python"
      ]
    },
    {
      "cell_type": "code",
      "execution_count": null,
      "metadata": {
        "colab": {
          "base_uri": "https://localhost:8080/"
        },
        "id": "_y5SJcKX_UBK",
        "outputId": "cff5e893-8a14-4332-cf4a-63cd1b70b8eb"
      },
      "outputs": [],
      "source": [
        "!pip install mediapipe"
      ]
    },
    {
      "cell_type": "code",
      "execution_count": null,
      "metadata": {
        "colab": {
          "base_uri": "https://localhost:8080/"
        },
        "id": "xHyfdzxlFaoR",
        "outputId": "36da9a98-9ff7-4016-b7ad-f7635161d2fc"
      },
      "outputs": [],
      "source": [
        "!pip install scikit-learn"
      ]
    },
    {
      "cell_type": "code",
      "execution_count": null,
      "metadata": {},
      "outputs": [],
      "source": [
        "!pip install seaborn"
      ]
    },
    {
      "cell_type": "markdown",
      "metadata": {
        "id": "0IIXfo6TFf2O"
      },
      "source": [
        "**Importing needed models**"
      ]
    },
    {
      "cell_type": "code",
      "execution_count": null,
      "metadata": {
        "id": "h8WNwI73_dXS"
      },
      "outputs": [],
      "source": [
        "import os\n",
        "import cv2\n",
        "import numpy as np\n",
        "import mediapipe as mp\n",
        "import tensorflow as tf\n",
        "from tensorflow.keras.models import Sequential\n",
        "from tensorflow.keras.layers import Dense\n",
        "from sklearn.model_selection import train_test_split\n",
        "from tensorflow.keras import layers, models\n",
        "from tensorflow.keras.utils import plot_model"
      ]
    },
    {
      "cell_type": "markdown",
      "metadata": {
        "id": "1r_loBhDo2Fc"
      },
      "source": [
        "**Determine the dataset path**"
      ]
    },
    {
      "cell_type": "code",
      "execution_count": null,
      "metadata": {
        "id": "NtdWvwNHF85D"
      },
      "outputs": [],
      "source": [
        "dataset = r'D:\\Coaching Dataset'\n",
        "\n",
        "\n",
        "directory = r\"D:\\Coatching\"\n",
        "\n",
        "\n",
        "os.makedirs(directory, exist_ok=True)\n",
        "\n",
        "\n",
        "model_name = \"model_name\"\n",
        "\n",
        "\n",
        "model_save_path = os.path.join(directory, model_name + \".keras\")\n"
      ]
    },
    {
      "cell_type": "markdown",
      "metadata": {
        "id": "NpkuzI0MpA-P"
      },
      "source": [
        "**Determine the number of classes**"
      ]
    },
    {
      "cell_type": "code",
      "execution_count": null,
      "metadata": {
        "id": "HPecmapXGKjI"
      },
      "outputs": [],
      "source": [
        "NUM_CLASSES = 6"
      ]
    },
    {
      "cell_type": "markdown",
      "metadata": {
        "id": "zoGn9BLMpGhD"
      },
      "source": [
        "**Define the load date function**"
      ]
    },
    {
      "cell_type": "code",
      "execution_count": null,
      "metadata": {
        "id": "0ppE6SsfGt0i"
      },
      "outputs": [],
      "source": [
        "def load_dataset(dataset_path):\n",
        "    x = []\n",
        "    y = []\n",
        "    mp_pose = mp.solutions.pose\n",
        "    pose = mp_pose.Pose(min_detection_confidence=0.5, min_tracking_confidence=0.5)\n",
        "\n",
        "    # Loop through dataset directory\n",
        "    for exercise_folder in os.listdir(dataset_path):\n",
        "        exercise_label = exercise_folder\n",
        "        exercise_folder_path = os.path.join(dataset_path, exercise_folder)  #/content/Data1/crunches\n",
        "\n",
        "        # Loop through video files in exercise folder\n",
        "        for video_file in os.listdir(exercise_folder_path):\n",
        "            video_path = os.path.join(exercise_folder_path, video_file)\n",
        "            cap = cv2.VideoCapture(video_path)\n",
        "            while cap.isOpened():\n",
        "                success, image = cap.read()\n",
        "                if not success:\n",
        "                    break\n",
        "                # Process image using MediaPipe Pose Detection\n",
        "                image_rgb = cv2.cvtColor(image, cv2.COLOR_BGR2RGB)\n",
        "                result = pose.process(image_rgb)\n",
        "                if result.pose_landmarks:\n",
        "                    # Extract pose landmarks\n",
        "                    landmarks = [[lm.x, lm.y] for lm in result.pose_landmarks.landmark]\n",
        "                    x.append(landmarks)\n",
        "                    y.append(exercise_label)\n",
        "            cap.release()\n",
        "    return np.array(x), np.array(y)"
      ]
    },
    {
      "cell_type": "markdown",
      "metadata": {
        "id": "x5p1-9nAxjvq"
      },
      "source": [
        "**Call the load data function**"
      ]
    },
    {
      "cell_type": "code",
      "execution_count": null,
      "metadata": {
        "id": "IIyHx7HjGvwL"
      },
      "outputs": [],
      "source": [
        "x, y = load_dataset(dataset)\n"
      ]
    },
    {
      "cell_type": "code",
      "execution_count": null,
      "metadata": {
        "colab": {
          "base_uri": "https://localhost:8080/"
        },
        "id": "7Wb3We_2I1i5",
        "outputId": "1d1f3643-df6b-45b4-ee57-35e2c4590784"
      },
      "outputs": [],
      "source": [
        "print(f\"Type of X: {type(x)}\")\n",
        "print(f\"Type of y: {type(y)}\")"
      ]
    },
    {
      "cell_type": "markdown",
      "metadata": {
        "id": "rAY_kJIzzK4Y"
      },
      "source": [
        "**Change the label's names**"
      ]
    },
    {
      "cell_type": "code",
      "execution_count": null,
      "metadata": {
        "id": "UcJl7EqnJPK5"
      },
      "outputs": [],
      "source": [
        "for i in range(y.size):\n",
        "  if y[i] == 'Chest Fly Machine False':\n",
        "    y[i] = 0\n",
        "  elif y[i] == 'Chest Fly Machine True':\n",
        "    y[i] = 1\n",
        "  elif y[i]=='Hammer Curl False':\n",
        "    y[i]=2\n",
        "  elif y[i]=='Hammer Curl True':\n",
        "    y[i]=3\n",
        "  elif y[i]=='Leg Extension False':\n",
        "    y[i]=4\n",
        "  elif y[i]=='Leg Extension True':\n",
        "    y[i]=5\n",
        "  else:\n",
        "    y[i] = -1"
      ]
    },
    {
      "cell_type": "markdown",
      "metadata": {
        "id": "EmohqH9Jzfnz"
      },
      "source": [
        "**Making sure that the x and y is np.float32**"
      ]
    },
    {
      "cell_type": "code",
      "execution_count": null,
      "metadata": {
        "id": "Xh1zRzTsJGGk"
      },
      "outputs": [],
      "source": [
        "if x.dtype != np.float32:\n",
        "    x = x.astype(np.float32)\n",
        "if y.dtype != np.float32:\n",
        "    y = y.astype(np.float32)"
      ]
    },
    {
      "cell_type": "markdown",
      "metadata": {
        "id": "vz2Zmwbr0KXa"
      },
      "source": [
        "**Divide the dataset into train data and test data**"
      ]
    },
    {
      "cell_type": "code",
      "execution_count": null,
      "metadata": {
        "id": "hiDyJuydRFg0"
      },
      "outputs": [],
      "source": [
        "X_train, X_test, y_train, y_test = train_test_split(x, y, test_size=0.2, random_state=42)"
      ]
    },
    {
      "cell_type": "markdown",
      "metadata": {},
      "source": [
        "**Building the model**"
      ]
    },
    {
      "cell_type": "code",
      "execution_count": null,
      "metadata": {
        "id": "ZrneMk0TIIxj"
      },
      "outputs": [],
      "source": [
        "model = tf.keras.Sequential([\n",
        "    tf.keras.layers.Input(shape=(X_train.shape[1], X_train.shape[2])),\n",
        "    tf.keras.layers.Conv1D(64, kernel_size=3, activation='relu'),\n",
        "    tf.keras.layers.Conv1D(32, kernel_size=3, activation='relu'),\n",
        "    tf.keras.layers.MaxPooling1D(pool_size=2),\n",
        "    tf.keras.layers.Conv1D(128, kernel_size=3, activation='relu'),\n",
        "    tf.keras.layers.MaxPooling1D(pool_size=2),\n",
        "    tf.keras.layers.Flatten(),\n",
        "    tf.keras.layers.Dense(256, activation='relu'),\n",
        "    tf.keras.layers.Dense(128, activation='relu'),\n",
        "    tf.keras.layers.Dropout(0.5),\n",
        "    tf.keras.layers.Dense(NUM_CLASSES, activation='softmax')\n",
        "])\n"
      ]
    },
    {
      "cell_type": "markdown",
      "metadata": {},
      "source": [
        "**Defining the call back function**"
      ]
    },
    {
      "cell_type": "code",
      "execution_count": null,
      "metadata": {},
      "outputs": [],
      "source": [
        "cp_callback = tf.keras.callbacks.ModelCheckpoint(\n",
        "    model_save_path, verbose=1, save_weights_only=False)\n",
        "es_callback = tf.keras.callbacks.EarlyStopping(patience=20, verbose=1)"
      ]
    },
    {
      "cell_type": "markdown",
      "metadata": {},
      "source": [
        "**Compile the model**"
      ]
    },
    {
      "cell_type": "code",
      "execution_count": null,
      "metadata": {
        "id": "7RDaHPhkINwg"
      },
      "outputs": [],
      "source": [
        "model.compile(\n",
        "    optimizer='adam',\n",
        "    loss='sparse_categorical_crossentropy',\n",
        "    metrics=['accuracy'])"
      ]
    },
    {
      "cell_type": "markdown",
      "metadata": {},
      "source": [
        "**Training the model**"
      ]
    },
    {
      "cell_type": "code",
      "execution_count": null,
      "metadata": {
        "colab": {
          "base_uri": "https://localhost:8080/"
        },
        "id": "KqUfM_GhIRWA",
        "outputId": "f8f55e35-7a44-46eb-ae50-5be0cb834598"
      },
      "outputs": [],
      "source": [
        "history = model.fit(\n",
        "    X_train,\n",
        "    y_train,\n",
        "    epochs=150,\n",
        "    batch_size=64,\n",
        "    validation_split=0.2,\n",
        "    callbacks=[cp_callback, es_callback]\n",
        "    )\n"
      ]
    },
    {
      "cell_type": "code",
      "execution_count": null,
      "metadata": {
        "colab": {
          "base_uri": "https://localhost:8080/"
        },
        "id": "Dg6euDN-Ku8Y",
        "outputId": "c84d3763-6f26-4054-bb16-40d41c7af516"
      },
      "outputs": [],
      "source": [
        "model.summary()\n"
      ]
    },
    {
      "cell_type": "markdown",
      "metadata": {},
      "source": [
        "**Evaluate data**"
      ]
    },
    {
      "cell_type": "code",
      "execution_count": null,
      "metadata": {
        "colab": {
          "base_uri": "https://localhost:8080/"
        },
        "id": "4jZKuF3wKyAf",
        "outputId": "7f5abd04-179b-4db8-ac77-85b67c6960cc"
      },
      "outputs": [],
      "source": [
        "\n",
        "\n",
        "loss, accuracy = model.evaluate(X_test, y_test)\n"
      ]
    },
    {
      "cell_type": "markdown",
      "metadata": {},
      "source": [
        "**Load the model**"
      ]
    },
    {
      "cell_type": "code",
      "execution_count": null,
      "metadata": {
        "id": "Ods8py7BLgOj"
      },
      "outputs": [],
      "source": [
        "model = tf.keras.models.load_model(model_save_path)\n"
      ]
    },
    {
      "cell_type": "code",
      "execution_count": null,
      "metadata": {},
      "outputs": [],
      "source": [
        "from sklearn.metrics import confusion_matrix, classification_report \n",
        "import seaborn as sns \n",
        "import matplotlib.pyplot as plt \n",
        "\n",
        "# Predict labels for test data \n",
        "y_pred = np.argmax(model.predict(X_test), axis=1) \n",
        "# Error Analysis \n",
        "misclassifications = np.where(y_test != y_pred)[0] \n",
        "print(\"Misclassified Instances:\", misclassifications) \n",
        "\n",
        "# Result Analysis \n",
        "accuracy = np.mean(y_test == y_pred) \n",
        "print(\"Accuracy:\", accuracy) \n",
        "print(classification_report(y_test, y_pred)) \n",
        "\n",
        "# Confusion Matrix \n",
        "conf_mat = confusion_matrix(y_test, y_pred) \n",
        "plt.figure(figsize=(8, 6)) \n",
        "sns.heatmap(conf_mat, annot=True, fmt='d', cmap='Blues') \n",
        "plt.xlabel('Predicted Labels') \n",
        "plt.ylabel('True Labels') \n",
        "plt.title('Confusion Matrix') \n",
        "plt.show() \n",
        "\n",
        "# Visualization for Test and Train (Learning curves) \n",
        "plt.plot(history.history['accuracy'], label='accuracy') \n",
        "plt.plot(history.history['val_accuracy'], label = 'val_accuracy') \n",
        "plt.xlabel('Epoch') \n",
        "plt.ylabel('Accuracy') \n",
        "plt.ylim([0, 1]) \n",
        "plt.legend(loc='lower right') \n",
        "plt.show() \n",
        "\n",
        "plt.plot(history.history['loss'], label='loss') \n",
        "plt.plot(history.history['val_loss'], label = 'val_loss') \n",
        "plt.xlabel('Epoch') \n",
        "plt.ylabel('Loss') \n",
        "plt.ylim([0, 1]) \n",
        "plt.legend(loc='upper right') \n",
        "plt.show()"
      ]
    },
    {
      "cell_type": "markdown",
      "metadata": {},
      "source": [
        "**Test the model by videos**"
      ]
    },
    {
      "cell_type": "code",
      "execution_count": null,
      "metadata": {
        "id": "-Mw5fQbtUhO1"
      },
      "outputs": [],
      "source": [
        "video_path = r'C:\\Users\\User\\Documents\\Coaching Dataset\\Chest Fly Machine Right_Wrong(240P).mp4'\n",
        "cap = cv2.VideoCapture(video_path)"
      ]
    },
    {
      "cell_type": "code",
      "execution_count": null,
      "metadata": {
        "id": "OtSRki3GbSNU"
      },
      "outputs": [],
      "source": [
        "mp_pose = mp.solutions.pose\n",
        "pose = mp_pose.Pose(min_detection_confidence=0.5, min_tracking_confidence=0.5)"
      ]
    },
    {
      "cell_type": "code",
      "execution_count": null,
      "metadata": {
        "colab": {
          "base_uri": "https://localhost:8080/",
          "height": 1000
        },
        "id": "HyhXuFMfbVqx",
        "outputId": "ac4c8982-9995-4bea-eecd-5d9e101b2020"
      },
      "outputs": [],
      "source": [
        "while cap.isOpened():\n",
        "    ret, frame = cap.read()\n",
        "    if not ret:\n",
        "        break\n",
        "\n",
        "    # Process frame with MediaPipe Pose Detection\n",
        "    frame_rgb = cv2.cvtColor(frame, cv2.COLOR_BGR2RGB)\n",
        "    result = pose.process(frame_rgb)\n",
        "\n",
        "    # Check if pose landmarks are detected\n",
        "    if result.pose_landmarks:\n",
        "        # Extract pose landmarks\n",
        "        landmarks = [[lm.x, lm.y] for lm in result.pose_landmarks.landmark]\n",
        "\n",
        "        # Preprocess landmarks (reshape, convert to numpy array, etc.)\n",
        "        # Example:\n",
        "        landmarks_array = np.array(landmarks, dtype=np.float32)\n",
        "        landmarks_array = landmarks_array[np.newaxis, ...]  # Add batch dimension\n",
        "\n",
        "        # Use the model to make predictions\n",
        "        predictions = model.predict(landmarks_array)\n",
        "\n",
        "        # Map predictions to class labels\n",
        "        class_labels = {\n",
        "            0: \"Chest Fly Machine False\",\n",
        "            1: \"Chest Fly Machine True\",\n",
        "            2: \"Hammer Curl False\",\n",
        "            3: \"Hammer Curl True\",\n",
        "            4: \"Leg Extension False\",\n",
        "            5: \"Leg Extension True\"\n",
        "        }\n",
        "\n",
        "        # Get the predicted class label text\n",
        "        predicted_label = class_labels[np.argmax(predictions)]\n",
        "\n",
        "        # Draw a colored background rectangle\n",
        "        cv2.rectangle(frame, (0, 0), (frame.shape[1], 45), (225, 255, 218), -1)\n",
        "\n",
        "        # Write the predicted label text on the colored background\n",
        "        cv2.putText(frame, predicted_label, (10, 30), cv2.FONT_HERSHEY_SIMPLEX, 1, (0, 0, 0), 2, cv2.LINE_AA)\n",
        "\n",
        "    # Display the frame\n",
        "    cv2.imshow(\"output\", frame)\n",
        "\n",
        "    # Break the loop if 'q' is pressed\n",
        "    if cv2.waitKey(1) & 0xFF == ord('q'):\n",
        "        break\n",
        "\n",
        "# Release the video capture object and close all windows\n",
        "cap.release()\n",
        "cv2.destroyAllWindows()"
      ]
    },
    {
      "cell_type": "code",
      "execution_count": null,
      "metadata": {},
      "outputs": [],
      "source": []
    }
  ],
  "metadata": {
    "colab": {
      "provenance": []
    },
    "kernelspec": {
      "display_name": "Python 3",
      "name": "python3"
    },
    "language_info": {
      "codemirror_mode": {
        "name": "ipython",
        "version": 3
      },
      "file_extension": ".py",
      "mimetype": "text/x-python",
      "name": "python",
      "nbconvert_exporter": "python",
      "pygments_lexer": "ipython3",
      "version": "3.9.8"
    }
  },
  "nbformat": 4,
  "nbformat_minor": 0
}
